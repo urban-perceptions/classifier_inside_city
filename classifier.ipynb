{
 "cells": [
  {
   "cell_type": "markdown",
   "id": "62af8784",
   "metadata": {},
   "source": [
    "### Classifier for Inside/Outside City"
   ]
  },
  {
   "cell_type": "code",
   "execution_count": 2,
   "id": "dde642aa",
   "metadata": {},
   "outputs": [
    {
     "data": {
      "text/plain": [
       "<torch._C.Generator at 0x7fd739b630d0>"
      ]
     },
     "execution_count": 2,
     "metadata": {},
     "output_type": "execute_result"
    }
   ],
   "source": [
    "import pandas as pd\n",
    "import numpy as np\n",
    "import torch\n",
    "import torchtext\n",
    "import torchdata\n",
    "import portalocker\n",
    "from wordsegment import load, segment\n",
    "from torchtext.data.utils import get_tokenizer\n",
    "from torchtext.vocab import build_vocab_from_iterator\n",
    "\n",
    "tokenizer = get_tokenizer('basic_english')\n",
    "from itertools import combinations\n",
    "from torchtext.vocab import GloVe\n",
    "\n",
    "torch.manual_seed(0)"
   ]
  },
  {
   "cell_type": "code",
   "execution_count": 3,
   "id": "3b0fa1e8",
   "metadata": {},
   "outputs": [],
   "source": [
    "#import dataset\n",
    "tweets_analysis = pd.read_csv(\"final_tweets_set.csv\")\n",
    "final_tweets = tweets_analysis[[\"inside\", \"text_clean\", \"city\"]]"
   ]
  },
  {
   "cell_type": "code",
   "execution_count": 4,
   "id": "5d567d5c",
   "metadata": {},
   "outputs": [
    {
     "name": "stderr",
     "output_type": "stream",
     "text": [
      "100%|████████████████████████████████████████████████████████████████████████████████████▉| 1193513/1193514 [00:53<00:00, 22239.13it/s]\n"
     ]
    }
   ],
   "source": [
    "#import twitter based glove embeddings\n",
    "glove = GloVe(name='twitter.27B', dim = 200)"
   ]
  },
  {
   "cell_type": "code",
   "execution_count": 5,
   "id": "eb515ebe",
   "metadata": {},
   "outputs": [],
   "source": [
    "#Create custom dataset\n",
    "from torch.utils.data import Dataset\n",
    "\n",
    "class CustomTextDataset(Dataset):\n",
    "    def __init__(self, txt, labels, city):\n",
    "        self.labels = labels\n",
    "        self.text = txt\n",
    "        self.city = city\n",
    "    def __len__(self):\n",
    "        return len(self.labels)\n",
    "    def __getitem__(self, idx):\n",
    "        label = self.labels[idx]\n",
    "        text = self.text[idx]\n",
    "        city = self.city[idx]\n",
    "        return (label, text, city)"
   ]
  },
  {
   "cell_type": "code",
   "execution_count": 6,
   "id": "d6782220",
   "metadata": {},
   "outputs": [
    {
     "name": "stderr",
     "output_type": "stream",
     "text": [
      "/var/folders/8r/33488zyj26x492g8pxrnm_jh0000gn/T/ipykernel_2000/1862403789.py:1: SettingWithCopyWarning: \n",
      "A value is trying to be set on a copy of a slice from a DataFrame\n",
      "\n",
      "See the caveats in the documentation: https://pandas.pydata.org/pandas-docs/stable/user_guide/indexing.html#returning-a-view-versus-a-copy\n",
      "  final_tweets.rename(columns = {\"inside\": \"Class\", \"text_clean\": \"Text\"}, inplace = True)\n"
     ]
    }
   ],
   "source": [
    "final_tweets.rename(columns = {\"inside\": \"Class\", \"text_clean\": \"Text\"}, inplace = True)"
   ]
  },
  {
   "cell_type": "code",
   "execution_count": 7,
   "id": "fd750ba4",
   "metadata": {},
   "outputs": [],
   "source": [
    "from torch.utils.data import Dataset, DataLoader\n",
    "from torch.nn.utils.rnn import pad_sequence\n",
    "\n",
    "#Collate Function\n",
    "\n",
    "def collate_into_cbow(batch):\n",
    "    \"\"\"\n",
    "    Processes batch of data\n",
    "    Creates glove embeddings \n",
    "    \"\"\"\n",
    "    k = len(batch)\n",
    "    label_list, original_text, text_list, cities = [], [], [], []\n",
    "    \n",
    "    max_words = 0\n",
    "    for i, (label, text, city) in enumerate(batch): \n",
    "        label_list.append(label)\n",
    "        original_text.append(text)\n",
    "        cities.append(city)\n",
    "        text = glove.get_vecs_by_tokens(tokenizer(text)).mean(dim =0)\n",
    "        text_list.append(text)\n",
    "    label_list = torch.tensor(label_list, dtype = torch.int64)\n",
    "    text_list = pad_sequence(text_list, batch_first=True, padding_value=0)\n",
    "    return label_list, text_list, original_text, cities"
   ]
  },
  {
   "cell_type": "code",
   "execution_count": 12,
   "id": "573a3c78",
   "metadata": {},
   "outputs": [],
   "source": [
    "#Basic Logistic Regression Model\n",
    "\n",
    "from torch import nn\n",
    "import torch.nn.functional as F\n",
    "\n",
    "class LogClassifier(nn.Module):\n",
    "    \"\"\"\n",
    "    Basic Logistic Regression Model\n",
    "    \"\"\"\n",
    "    \n",
    "    def __init__(self, num_labels, vocab_size):\n",
    "        \n",
    "        super(LogClassifier, self).__init__()\n",
    "        \n",
    "        self.linear = nn.Linear(vocab_size, num_labels)\n",
    "        \n",
    "    def forward(self, bow_vec):\n",
    "        \n",
    "        return F.log_softmax(self.linear(bow_vec), dim=1)"
   ]
  },
  {
   "cell_type": "code",
   "execution_count": 13,
   "id": "f8e7977e",
   "metadata": {},
   "outputs": [],
   "source": [
    "import time\n",
    "\n",
    "loss_function = torch.nn.NLLLoss()\n",
    "\n",
    "def train_an_epoch(dataloader, optimizer):\n",
    "    \"\"\"\n",
    "    Conducts a training step on dataloader\n",
    "    \n",
    "    Inputs:\n",
    "        dataloader object\n",
    "        specified optimzier\n",
    "    \n",
    "    \"\"\"\n",
    "    model.train() # Sets the module in training mode.\n",
    "    log_interval = 500\n",
    "\n",
    "    for idx, (label, text, _, _ ) in enumerate(dataloader):\n",
    "        model.zero_grad()\n",
    "        log_probs = model(text)\n",
    "        loss = loss_function(log_probs, label)\n",
    "        loss.backward()\n",
    "        optimizer.step()\n",
    "        if idx % log_interval == 0 and idx > 0:\n",
    "            print(f'At iteration {idx} the loss is {loss:.3f}.')"
   ]
  },
  {
   "cell_type": "code",
   "execution_count": 14,
   "id": "cc0d8b19",
   "metadata": {},
   "outputs": [],
   "source": [
    "def get_accuracy(dataloader):\n",
    "    \"\"\"\n",
    "    Calculates the accuracy of the model over batches\n",
    "    of dataloader\n",
    "    \"\"\"\n",
    "    \n",
    "    model.eval()\n",
    "    accuracy = []\n",
    "    \n",
    "    with torch.no_grad():\n",
    "        count = 0 \n",
    "        correct = 0\n",
    "        for idx, (label, text, _, _) in enumerate(dataloader):\n",
    "            log_probs = model(text)\n",
    "            predicted_label = torch.argmax(log_probs, dim = 1)\n",
    "            count = count + len(label)\n",
    "            correct = correct + torch.where(label == predicted_label, 1, 0).sum()\n",
    "\n",
    "    return correct/count"
   ]
  },
  {
   "cell_type": "code",
   "execution_count": 15,
   "id": "d37aeb4b",
   "metadata": {},
   "outputs": [],
   "source": [
    "def get_accuracy_test(test_dataloader): \n",
    "    \"\"\"\n",
    "    computes accuracy and returns additional\n",
    "    information for test data\n",
    "    \"\"\"\n",
    "    model.eval()\n",
    "    #accuracy = []\n",
    "    original_text = []\n",
    "    predictions = []\n",
    "    correct_labels = []\n",
    "    correct_pred = []\n",
    "    cities = []\n",
    "    \n",
    "    with torch.no_grad():\n",
    "        count = 0 \n",
    "        correct = 0\n",
    "        for idx, (label, text, original, city) in enumerate(test_dataloader):\n",
    "            log_probs = model(text)\n",
    "            predicted_label = torch.argmax(log_probs, dim = 1)\n",
    "            predictions.extend(predicted_label)\n",
    "            correct_labels.extend(label)\n",
    "            original_text.extend(original)\n",
    "            cities.extend(city)\n",
    "            count = count + len(label)\n",
    "            correct = correct + torch.where(label == predicted_label, 1, 0).sum()\n",
    "            correct_pred.extend(torch.where(label == predicted_label, 1, 0))\n",
    "    \n",
    "    print(\"test accuracy:\", correct/count)\n",
    "    return original_text, correct_labels, cities, predictions, correct_pred\n",
    "    "
   ]
  },
  {
   "cell_type": "code",
   "execution_count": 21,
   "id": "d466ba3c",
   "metadata": {},
   "outputs": [],
   "source": [
    "torch.manual_seed(0)\n",
    "TD = CustomTextDataset(final_tweets['Text'], final_tweets['Class'], final_tweets['city'])\n",
    "BATCH_SIZE = 64\n",
    "train_size = int(0.8 * len(TD))\n",
    "test_size = (len(TD) - train_size)//2\n",
    "valid_size = len(TD) - train_size - test_size\n",
    "\n",
    "train_dataset, valid_dataset, test_dataset = torch.utils.data.random_split(TD, [train_size, valid_size, test_size])\n",
    "\n",
    "train_dataloader = DataLoader(train_dataset, batch_size=BATCH_SIZE,\n",
    "                              shuffle=True, \n",
    "                              collate_fn=collate_into_cbow)\n",
    "\n",
    "valid_dataloader = DataLoader(valid_dataset, batch_size=BATCH_SIZE,\n",
    "                             shuffle=False, \n",
    "                             collate_fn=collate_into_cbow)\n",
    "test_dataloader = DataLoader(test_dataset, batch_size=BATCH_SIZE,\n",
    "                             shuffle=False, \n",
    "                             collate_fn=collate_into_cbow)\n"
   ]
  },
  {
   "cell_type": "markdown",
   "id": "3ec72610",
   "metadata": {},
   "source": [
    "## Run Basic Logistic Regression Model"
   ]
  },
  {
   "cell_type": "code",
   "execution_count": 89,
   "id": "8252c4aa",
   "metadata": {},
   "outputs": [
    {
     "name": "stdout",
     "output_type": "stream",
     "text": [
      "\n",
      "After epoch 1 the validation accuracy is 0.640.\n",
      "\n",
      "\n",
      "After epoch 2 the validation accuracy is 0.652.\n",
      "\n",
      "\n",
      "After epoch 3 the validation accuracy is 0.663.\n",
      "\n",
      "\n",
      "After epoch 4 the validation accuracy is 0.660.\n",
      "\n",
      "\n",
      "After epoch 5 the validation accuracy is 0.663.\n",
      "\n",
      "\n",
      "After epoch 6 the validation accuracy is 0.659.\n",
      "\n",
      "\n",
      "After epoch 7 the validation accuracy is 0.663.\n",
      "\n",
      "\n",
      "After epoch 8 the validation accuracy is 0.676.\n",
      "\n",
      "\n",
      "After epoch 9 the validation accuracy is 0.663.\n",
      "\n",
      "\n",
      "After epoch 10 the validation accuracy is 0.668.\n",
      "\n",
      "\n",
      "After epoch 11 the validation accuracy is 0.669.\n",
      "\n",
      "\n",
      "After epoch 12 the validation accuracy is 0.669.\n",
      "\n",
      "\n",
      "After epoch 13 the validation accuracy is 0.675.\n",
      "\n",
      "\n",
      "After epoch 14 the validation accuracy is 0.670.\n",
      "\n",
      "\n",
      "After epoch 15 the validation accuracy is 0.673.\n",
      "\n",
      "\n",
      "After epoch 16 the validation accuracy is 0.674.\n",
      "\n",
      "\n",
      "After epoch 17 the validation accuracy is 0.674.\n",
      "\n",
      "\n",
      "After epoch 18 the validation accuracy is 0.671.\n",
      "\n",
      "\n",
      "After epoch 19 the validation accuracy is 0.678.\n",
      "\n",
      "\n",
      "After epoch 20 the validation accuracy is 0.671.\n",
      "\n",
      "\n",
      "After epoch 21 the validation accuracy is 0.676.\n",
      "\n",
      "\n",
      "After epoch 22 the validation accuracy is 0.674.\n",
      "\n",
      "\n",
      "After epoch 23 the validation accuracy is 0.675.\n",
      "\n",
      "\n",
      "After epoch 24 the validation accuracy is 0.669.\n",
      "\n",
      "\n",
      "After epoch 25 the validation accuracy is 0.676.\n",
      "\n",
      "\n",
      "After epoch 26 the validation accuracy is 0.678.\n",
      "\n",
      "\n",
      "After epoch 27 the validation accuracy is 0.678.\n",
      "\n",
      "\n",
      "After epoch 28 the validation accuracy is 0.676.\n",
      "\n",
      "\n",
      "After epoch 29 the validation accuracy is 0.671.\n",
      "\n",
      "\n",
      "After epoch 30 the validation accuracy is 0.677.\n",
      "\n"
     ]
    },
    {
     "data": {
      "text/plain": [
       "<matplotlib.legend.Legend at 0x7fd72aa058a0>"
      ]
     },
     "execution_count": 89,
     "metadata": {},
     "output_type": "execute_result"
    },
    {
     "data": {
      "image/png": "[encoded data removed]",
      "text/plain": [
       "<Figure size 640x480 with 1 Axes>"
      ]
     },
     "metadata": {},
     "output_type": "display_data"
    }
   ],
   "source": [
    "import time\n",
    "import matplotlib.pyplot as plt\n",
    "%matplotlib inline\n",
    "\n",
    "model = LogClassifier(2, 200)\n",
    "\n",
    "EPOCHS = 30 # epoch\n",
    "\n",
    "optimizer = torch.optim.Adam(model.parameters(), lr=0.001)\n",
    "\n",
    "val_accuracies=[]\n",
    "train_accuracies = []\n",
    "for epoch in range(1, EPOCHS + 1):\n",
    "    epoch_start_time = time.time()\n",
    "    train_an_epoch(train_dataloader, optimizer)\n",
    "    val_accuracy = get_accuracy(valid_dataloader)\n",
    "    val_accuracies.append(val_accuracy)\n",
    "    train_accuracy = get_accuracy(train_dataloader)\n",
    "    train_accuracies.append(train_accuracy)\n",
    "    time_taken = time.time() - epoch_start_time\n",
    "    print()\n",
    "    print(f'After epoch {epoch} the validation accuracy is {val_accuracy:.3f}.')\n",
    "    print()\n",
    "    \n",
    "plt.plot(range(1, EPOCHS+1), val_accuracies, label = \"validation\")\n",
    "plt.plot(range(1, EPOCHS+1), train_accuracies, label = \"training\")\n",
    "plt.legend()"
   ]
  },
  {
   "cell_type": "code",
   "execution_count": 96,
   "id": "88246fea",
   "metadata": {},
   "outputs": [
    {
     "name": "stdout",
     "output_type": "stream",
     "text": [
      "test accuracy: tensor(0.6706)\n"
     ]
    }
   ],
   "source": [
    "#get test accuracy\n",
    "original_text, correct_labels, city, predictions, correct_pred = get_accuracy_test(test_dataloader)"
   ]
  },
  {
   "cell_type": "code",
   "execution_count": 97,
   "id": "d64d16c1",
   "metadata": {},
   "outputs": [
    {
     "data": {
      "text/plain": [
       "<sklearn.metrics._plot.confusion_matrix.ConfusionMatrixDisplay at 0x7fd748267a90>"
      ]
     },
     "execution_count": 97,
     "metadata": {},
     "output_type": "execute_result"
    },
    {
     "data": {
      "image/png": "[encoded data removed]",
      "text/plain": [
       "<Figure size 640x480 with 2 Axes>"
      ]
     },
     "metadata": {},
     "output_type": "display_data"
    }
   ],
   "source": [
    "#create confusion matrix\n",
    "from sklearn.metrics import confusion_matrix, ConfusionMatrixDisplay\n",
    "cm = confusion_matrix(correct_labels, predictions)\n",
    "disp = ConfusionMatrixDisplay(confusion_matrix=cm)\n",
    "disp.plot()"
   ]
  },
  {
   "cell_type": "code",
   "execution_count": 98,
   "id": "9adffc3c",
   "metadata": {},
   "outputs": [
    {
     "data": {
      "text/plain": [
       "tensor(0.6756)"
      ]
     },
     "execution_count": 98,
     "metadata": {},
     "output_type": "execute_result"
    }
   ],
   "source": [
    "from torchmetrics.classification import BinaryF1Score\n",
    "metric = BinaryF1Score()\n",
    "metric(torch.tensor(predictions), torch.tensor(correct_labels))"
   ]
  },
  {
   "cell_type": "markdown",
   "id": "e1a2a4e8",
   "metadata": {},
   "source": [
    "## Run Neural Net Classifier with 1 Hidden Layer"
   ]
  },
  {
   "cell_type": "code",
   "execution_count": 99,
   "id": "c0221b8d",
   "metadata": {},
   "outputs": [],
   "source": [
    "class ClassifierNN(nn.Module):\n",
    "    \"\"\"\n",
    "    Classifier with 1 hidden layer\n",
    "    \"\"\"\n",
    "    \n",
    "    def __init__(self,\n",
    "                 embedding_dim,\n",
    "                hidden_dim,\n",
    "                   output_dim,\n",
    "                   nonlinearity):\n",
    "        \n",
    "        super(ClassifierNN, self).__init__()\n",
    "\n",
    "        self.embed_hidden = nn.Linear(embedding_dim, hidden_dim)\n",
    "\n",
    "        self.nonlinearity = nonlinearity\n",
    "        \n",
    "        self.hidden_to_label = nn.Linear(hidden_dim, output_dim)\n",
    "        \n",
    "        \n",
    "    def forward(self, bow_vec):\n",
    "        \n",
    "        h = self.nonlinearity(self.embed_hidden(bow_vec))\n",
    "        y_tilda = self.hidden_to_label(h)\n",
    "                                          \n",
    "        return F.log_softmax(y_tilda, 1)\n"
   ]
  },
  {
   "cell_type": "code",
   "execution_count": 100,
   "id": "6fb93233",
   "metadata": {},
   "outputs": [
    {
     "name": "stdout",
     "output_type": "stream",
     "text": [
      "\n",
      "After epoch 1 the validation accuracy is 0.664.\n",
      "\n",
      "\n",
      "After epoch 2 the validation accuracy is 0.683.\n",
      "\n",
      "\n",
      "After epoch 3 the validation accuracy is 0.690.\n",
      "\n",
      "\n",
      "After epoch 4 the validation accuracy is 0.699.\n",
      "\n",
      "\n",
      "After epoch 5 the validation accuracy is 0.708.\n",
      "\n",
      "\n",
      "After epoch 6 the validation accuracy is 0.712.\n",
      "\n",
      "\n",
      "After epoch 7 the validation accuracy is 0.718.\n",
      "\n",
      "\n",
      "After epoch 8 the validation accuracy is 0.724.\n",
      "\n",
      "\n",
      "After epoch 9 the validation accuracy is 0.725.\n",
      "\n",
      "\n",
      "After epoch 10 the validation accuracy is 0.721.\n",
      "\n",
      "\n",
      "After epoch 11 the validation accuracy is 0.718.\n",
      "\n",
      "\n",
      "After epoch 12 the validation accuracy is 0.730.\n",
      "\n",
      "\n",
      "After epoch 13 the validation accuracy is 0.723.\n",
      "\n",
      "\n",
      "After epoch 14 the validation accuracy is 0.719.\n",
      "\n",
      "\n",
      "After epoch 15 the validation accuracy is 0.728.\n",
      "\n"
     ]
    },
    {
     "data": {
      "text/plain": [
       "<matplotlib.legend.Legend at 0x7fd76e577490>"
      ]
     },
     "execution_count": 100,
     "metadata": {},
     "output_type": "execute_result"
    },
    {
     "data": {
      "image/png": "[encoded data removed]",
      "text/plain": [
       "<Figure size 640x480 with 1 Axes>"
      ]
     },
     "metadata": {},
     "output_type": "display_data"
    }
   ],
   "source": [
    "torch.manual_seed(0)\n",
    "TD = CustomTextDataset(final_tweets['Text'], final_tweets['Class'], final_tweets['city'])\n",
    "BATCH_SIZE = 64\n",
    "train_size = int(0.8 * len(TD))\n",
    "test_size = (len(TD) - train_size)//2\n",
    "valid_size = len(TD) - train_size - test_size\n",
    "\n",
    "train_dataset, valid_dataset, test_dataset = torch.utils.data.random_split(TD, [train_size, valid_size, test_size])\n",
    "\n",
    "train_dataloader = DataLoader(train_dataset, batch_size=BATCH_SIZE,\n",
    "                              shuffle=True, \n",
    "                              collate_fn=collate_into_cbow)\n",
    "\n",
    "valid_dataloader = DataLoader(valid_dataset, batch_size=BATCH_SIZE,\n",
    "                             shuffle=False, \n",
    "                             collate_fn=collate_into_cbow)\n",
    "test_dataloader = DataLoader(test_dataset, batch_size=BATCH_SIZE,\n",
    "                             shuffle=False, \n",
    "                             collate_fn=collate_into_cbow)\n",
    "\n",
    "\n",
    "import matplotlib.pyplot as plt\n",
    "%matplotlib inline\n",
    "\n",
    "\n",
    "model = ClassifierNN(embedding_dim = 200, \n",
    "                        hidden_dim = 50,\n",
    "                        output_dim = 2, \n",
    "                        nonlinearity = nn.ReLU())\n",
    "\n",
    "\n",
    "EPOCHS = 15 # epoch\n",
    "optimizer = torch.optim.Adam(model.parameters(), lr=0.001)\n",
    "\n",
    "\n",
    "val_accuracies=[]\n",
    "train_accuracies = []\n",
    "for epoch in range(1, EPOCHS + 1):\n",
    "    epoch_start_time = time.time()\n",
    "    train_an_epoch(train_dataloader, optimizer)\n",
    "    val_accuracy = get_accuracy(valid_dataloader)\n",
    "    val_accuracies.append(val_accuracy)\n",
    "    train_accuracy = get_accuracy(train_dataloader)\n",
    "    train_accuracies.append(train_accuracy)\n",
    "    time_taken = time.time() - epoch_start_time\n",
    "    print()\n",
    "    print(f'After epoch {epoch} the validation accuracy is {val_accuracy:.3f}.')\n",
    "    print()\n",
    "    \n",
    "plt.plot(range(1, EPOCHS+1), val_accuracies, label = \"validation\")\n",
    "plt.plot(range(1, EPOCHS+1), train_accuracies, label = \"training\")\n",
    "plt.legend()"
   ]
  },
  {
   "cell_type": "code",
   "execution_count": 101,
   "id": "2541baf2",
   "metadata": {},
   "outputs": [
    {
     "name": "stdout",
     "output_type": "stream",
     "text": [
      "test accuracy: tensor(0.7246)\n"
     ]
    }
   ],
   "source": [
    "original_text, correct_labels, city, predictions, correct_preds = get_accuracy_test(test_dataloader)"
   ]
  },
  {
   "cell_type": "code",
   "execution_count": 28,
   "id": "6a558a1d",
   "metadata": {},
   "outputs": [
    {
     "data": {
      "text/plain": [
       "<sklearn.metrics._plot.confusion_matrix.ConfusionMatrixDisplay at 0x7fd76fbec760>"
      ]
     },
     "execution_count": 28,
     "metadata": {},
     "output_type": "execute_result"
    },
    {
     "data": {
      "image/png": "[encoded data removed]",
      "text/plain": [
       "<Figure size 640x480 with 2 Axes>"
      ]
     },
     "metadata": {},
     "output_type": "display_data"
    }
   ],
   "source": [
    "cm = confusion_matrix(correct_labels, predictions)\n",
    "disp = ConfusionMatrixDisplay(confusion_matrix=cm)\n",
    "disp.plot()"
   ]
  },
  {
   "cell_type": "code",
   "execution_count": 102,
   "id": "1ce4ea63",
   "metadata": {},
   "outputs": [
    {
     "data": {
      "text/plain": [
       "tensor(0.7462)"
      ]
     },
     "execution_count": 102,
     "metadata": {},
     "output_type": "execute_result"
    }
   ],
   "source": [
    "from torchmetrics.classification import BinaryF1Score\n",
    "metric = BinaryF1Score()\n",
    "metric(torch.tensor(predictions), torch.tensor(correct_labels))"
   ]
  },
  {
   "cell_type": "markdown",
   "id": "52f9bb34",
   "metadata": {},
   "source": [
    "### Analysis based on Neural Net Predictions"
   ]
  },
  {
   "cell_type": "code",
   "execution_count": 29,
   "id": "8b2075fe",
   "metadata": {},
   "outputs": [],
   "source": [
    "#original_text, correct_labels, city, predictions, correct_preds\n",
    "correct_labels = [x.item() for x in correct_labels]\n",
    "predictions = [x.item() for x in predictions]\n",
    "correct_preds = [x.item() for x in correct_preds]"
   ]
  },
  {
   "cell_type": "code",
   "execution_count": 30,
   "id": "2994307f",
   "metadata": {},
   "outputs": [],
   "source": [
    "tweet_results = {\"Text\": original_text, \"Labels\": correct_labels,\n",
    "                 \"City\": city, \"Predictions\": predictions, \"Correct\": correct_preds}"
   ]
  },
  {
   "cell_type": "code",
   "execution_count": 31,
   "id": "b18ac1ca",
   "metadata": {},
   "outputs": [],
   "source": [
    "final_results_df = pd.DataFrame(tweet_results, columns = [\"Text\", \"Labels\", \"City\", \"Predictions\", \"Correct\"])"
   ]
  },
  {
   "cell_type": "code",
   "execution_count": 32,
   "id": "f2069512",
   "metadata": {},
   "outputs": [],
   "source": [
    "final_results_df_clean = final_results_df.copy()"
   ]
  },
  {
   "cell_type": "code",
   "execution_count": 33,
   "id": "f806f1b7",
   "metadata": {},
   "outputs": [],
   "source": [
    "growing = [\"Tampa\", \"Kansas City\", \"Raleigh\", \"Fort Worth\", \"San Antonio\", \"Phoenix\", \"Las Vegas\", \"Jacksonville\"]"
   ]
  },
  {
   "cell_type": "code",
   "execution_count": 34,
   "id": "4ced1849",
   "metadata": {},
   "outputs": [],
   "source": [
    "import numpy as np"
   ]
  },
  {
   "cell_type": "code",
   "execution_count": 35,
   "id": "8e985f02",
   "metadata": {},
   "outputs": [],
   "source": [
    "def f(row):\n",
    "    growing = [\"Tampa\", \"Kansas City\", \"Raleigh\", \"Fort Worth\", \"San Antonio\", \"Phoenix\", \"Las Vegas\", \"Jacksonville\"]\n",
    "    if row['City'] in growing:\n",
    "        val = 1\n",
    "    else:\n",
    "        val = 0\n",
    "    return val"
   ]
  },
  {
   "cell_type": "code",
   "execution_count": 36,
   "id": "67542ed9",
   "metadata": {},
   "outputs": [],
   "source": [
    "final_results_df_clean['growing'] = final_results_df_clean.apply(f, axis=1)"
   ]
  },
  {
   "cell_type": "code",
   "execution_count": 37,
   "id": "fc512d7c",
   "metadata": {},
   "outputs": [
    {
     "data": {
      "text/html": [
       "<div>\n",
       "<style scoped>\n",
       "    .dataframe tbody tr th:only-of-type {\n",
       "        vertical-align: middle;\n",
       "    }\n",
       "\n",
       "    .dataframe tbody tr th {\n",
       "        vertical-align: top;\n",
       "    }\n",
       "\n",
       "    .dataframe thead th {\n",
       "        text-align: right;\n",
       "    }\n",
       "</style>\n",
       "<table border=\"1\" class=\"dataframe\">\n",
       "  <thead>\n",
       "    <tr style=\"text-align: right;\">\n",
       "      <th></th>\n",
       "      <th>Text</th>\n",
       "      <th>Labels</th>\n",
       "      <th>City</th>\n",
       "      <th>Predictions</th>\n",
       "      <th>Correct</th>\n",
       "      <th>growing</th>\n",
       "    </tr>\n",
       "  </thead>\n",
       "  <tbody>\n",
       "    <tr>\n",
       "      <th>0</th>\n",
       "      <td>highest in the room new york new yorkcity manh...</td>\n",
       "      <td>1</td>\n",
       "      <td>New York</td>\n",
       "      <td>1</td>\n",
       "      <td>1</td>\n",
       "      <td>0</td>\n",
       "    </tr>\n",
       "    <tr>\n",
       "      <th>1</th>\n",
       "      <td>accident cleared in fort worth on w sb at gold...</td>\n",
       "      <td>1</td>\n",
       "      <td>Fort Worth</td>\n",
       "      <td>1</td>\n",
       "      <td>1</td>\n",
       "      <td>1</td>\n",
       "    </tr>\n",
       "    <tr>\n",
       "      <th>2</th>\n",
       "      <td>san antonio musician passed away in houston do...</td>\n",
       "      <td>1</td>\n",
       "      <td>San Antonio</td>\n",
       "      <td>0</td>\n",
       "      <td>0</td>\n",
       "      <td>1</td>\n",
       "    </tr>\n",
       "    <tr>\n",
       "      <th>3</th>\n",
       "      <td>there are still days for you to make a donatio...</td>\n",
       "      <td>1</td>\n",
       "      <td>Philadelphia</td>\n",
       "      <td>1</td>\n",
       "      <td>1</td>\n",
       "      <td>0</td>\n",
       "    </tr>\n",
       "    <tr>\n",
       "      <th>4</th>\n",
       "      <td>hunka hunka burning phoenix sunset arizona pho...</td>\n",
       "      <td>1</td>\n",
       "      <td>Phoenix</td>\n",
       "      <td>1</td>\n",
       "      <td>1</td>\n",
       "      <td>1</td>\n",
       "    </tr>\n",
       "    <tr>\n",
       "      <th>...</th>\n",
       "      <td>...</td>\n",
       "      <td>...</td>\n",
       "      <td>...</td>\n",
       "      <td>...</td>\n",
       "      <td>...</td>\n",
       "      <td>...</td>\n",
       "    </tr>\n",
       "    <tr>\n",
       "      <th>2715</th>\n",
       "      <td>doobie says im a good boy ruff ruff dog dogsof...</td>\n",
       "      <td>1</td>\n",
       "      <td>San Francisco</td>\n",
       "      <td>1</td>\n",
       "      <td>1</td>\n",
       "      <td>0</td>\n",
       "    </tr>\n",
       "    <tr>\n",
       "      <th>2716</th>\n",
       "      <td>crash only right lane gets by in fort worth on...</td>\n",
       "      <td>1</td>\n",
       "      <td>Fort Worth</td>\n",
       "      <td>1</td>\n",
       "      <td>1</td>\n",
       "      <td>1</td>\n",
       "    </tr>\n",
       "    <tr>\n",
       "      <th>2717</th>\n",
       "      <td>peaceful demonstration no filter south loop th...</td>\n",
       "      <td>1</td>\n",
       "      <td>Chicago</td>\n",
       "      <td>1</td>\n",
       "      <td>1</td>\n",
       "      <td>0</td>\n",
       "    </tr>\n",
       "    <tr>\n",
       "      <th>2718</th>\n",
       "      <td>someone take me back years ago new york new yo...</td>\n",
       "      <td>1</td>\n",
       "      <td>New York</td>\n",
       "      <td>1</td>\n",
       "      <td>1</td>\n",
       "      <td>0</td>\n",
       "    </tr>\n",
       "    <tr>\n",
       "      <th>2719</th>\n",
       "      <td>weekend mood set the vibes for the night with ...</td>\n",
       "      <td>0</td>\n",
       "      <td>New York</td>\n",
       "      <td>0</td>\n",
       "      <td>1</td>\n",
       "      <td>0</td>\n",
       "    </tr>\n",
       "  </tbody>\n",
       "</table>\n",
       "<p>2720 rows × 6 columns</p>\n",
       "</div>"
      ],
      "text/plain": [
       "                                                   Text  Labels  \\\n",
       "0     highest in the room new york new yorkcity manh...       1   \n",
       "1     accident cleared in fort worth on w sb at gold...       1   \n",
       "2     san antonio musician passed away in houston do...       1   \n",
       "3     there are still days for you to make a donatio...       1   \n",
       "4     hunka hunka burning phoenix sunset arizona pho...       1   \n",
       "...                                                 ...     ...   \n",
       "2715  doobie says im a good boy ruff ruff dog dogsof...       1   \n",
       "2716  crash only right lane gets by in fort worth on...       1   \n",
       "2717  peaceful demonstration no filter south loop th...       1   \n",
       "2718  someone take me back years ago new york new yo...       1   \n",
       "2719  weekend mood set the vibes for the night with ...       0   \n",
       "\n",
       "               City  Predictions  Correct  growing  \n",
       "0          New York            1        1        0  \n",
       "1        Fort Worth            1        1        1  \n",
       "2       San Antonio            0        0        1  \n",
       "3      Philadelphia            1        1        0  \n",
       "4           Phoenix            1        1        1  \n",
       "...             ...          ...      ...      ...  \n",
       "2715  San Francisco            1        1        0  \n",
       "2716     Fort Worth            1        1        1  \n",
       "2717        Chicago            1        1        0  \n",
       "2718       New York            1        1        0  \n",
       "2719       New York            0        1        0  \n",
       "\n",
       "[2720 rows x 6 columns]"
      ]
     },
     "execution_count": 37,
     "metadata": {},
     "output_type": "execute_result"
    }
   ],
   "source": [
    "final_results_df_clean"
   ]
  },
  {
   "cell_type": "code",
   "execution_count": 38,
   "id": "d7ca8f0d",
   "metadata": {},
   "outputs": [],
   "source": [
    "growing_results = final_results_df_clean.loc[(final_results_df_clean.loc[:, \"growing\"] ==1), :]\n",
    "shrinking_results = final_results_df_clean.loc[(final_results_df_clean.loc[:, \"growing\"] ==0), :]"
   ]
  },
  {
   "cell_type": "code",
   "execution_count": 39,
   "id": "6885d3dd",
   "metadata": {},
   "outputs": [],
   "source": [
    "out_growing = growing_results.groupby('City')['Correct'].value_counts(normalize=True)\n",
    "out_shrinking = shrinking_results.groupby('City')['Correct'].value_counts(normalize=True)"
   ]
  },
  {
   "cell_type": "code",
   "execution_count": 40,
   "id": "a0bff1f8",
   "metadata": {},
   "outputs": [
    {
     "data": {
      "text/html": [
       "<div>\n",
       "<style scoped>\n",
       "    .dataframe tbody tr th:only-of-type {\n",
       "        vertical-align: middle;\n",
       "    }\n",
       "\n",
       "    .dataframe tbody tr th {\n",
       "        vertical-align: top;\n",
       "    }\n",
       "\n",
       "    .dataframe thead th {\n",
       "        text-align: right;\n",
       "    }\n",
       "</style>\n",
       "<table border=\"1\" class=\"dataframe\">\n",
       "  <thead>\n",
       "    <tr style=\"text-align: right;\">\n",
       "      <th></th>\n",
       "      <th></th>\n",
       "      <th>Correct</th>\n",
       "    </tr>\n",
       "    <tr>\n",
       "      <th>City</th>\n",
       "      <th>Correct</th>\n",
       "      <th></th>\n",
       "    </tr>\n",
       "  </thead>\n",
       "  <tbody>\n",
       "    <tr>\n",
       "      <th rowspan=\"2\" valign=\"top\">Fort Worth</th>\n",
       "      <th>1</th>\n",
       "      <td>0.840000</td>\n",
       "    </tr>\n",
       "    <tr>\n",
       "      <th>0</th>\n",
       "      <td>0.160000</td>\n",
       "    </tr>\n",
       "    <tr>\n",
       "      <th rowspan=\"2\" valign=\"top\">Jacksonville</th>\n",
       "      <th>1</th>\n",
       "      <td>0.640000</td>\n",
       "    </tr>\n",
       "    <tr>\n",
       "      <th>0</th>\n",
       "      <td>0.360000</td>\n",
       "    </tr>\n",
       "    <tr>\n",
       "      <th rowspan=\"2\" valign=\"top\">Kansas City</th>\n",
       "      <th>1</th>\n",
       "      <td>0.620690</td>\n",
       "    </tr>\n",
       "    <tr>\n",
       "      <th>0</th>\n",
       "      <td>0.379310</td>\n",
       "    </tr>\n",
       "    <tr>\n",
       "      <th rowspan=\"2\" valign=\"top\">Las Vegas</th>\n",
       "      <th>1</th>\n",
       "      <td>0.718391</td>\n",
       "    </tr>\n",
       "    <tr>\n",
       "      <th>0</th>\n",
       "      <td>0.281609</td>\n",
       "    </tr>\n",
       "    <tr>\n",
       "      <th rowspan=\"2\" valign=\"top\">Phoenix</th>\n",
       "      <th>1</th>\n",
       "      <td>0.736842</td>\n",
       "    </tr>\n",
       "    <tr>\n",
       "      <th>0</th>\n",
       "      <td>0.263158</td>\n",
       "    </tr>\n",
       "    <tr>\n",
       "      <th rowspan=\"2\" valign=\"top\">Raleigh</th>\n",
       "      <th>1</th>\n",
       "      <td>0.725714</td>\n",
       "    </tr>\n",
       "    <tr>\n",
       "      <th>0</th>\n",
       "      <td>0.274286</td>\n",
       "    </tr>\n",
       "    <tr>\n",
       "      <th rowspan=\"2\" valign=\"top\">San Antonio</th>\n",
       "      <th>1</th>\n",
       "      <td>0.786164</td>\n",
       "    </tr>\n",
       "    <tr>\n",
       "      <th>0</th>\n",
       "      <td>0.213836</td>\n",
       "    </tr>\n",
       "    <tr>\n",
       "      <th rowspan=\"2\" valign=\"top\">Tampa</th>\n",
       "      <th>1</th>\n",
       "      <td>0.658537</td>\n",
       "    </tr>\n",
       "    <tr>\n",
       "      <th>0</th>\n",
       "      <td>0.341463</td>\n",
       "    </tr>\n",
       "  </tbody>\n",
       "</table>\n",
       "</div>"
      ],
      "text/plain": [
       "                       Correct\n",
       "City         Correct          \n",
       "Fort Worth   1        0.840000\n",
       "             0        0.160000\n",
       "Jacksonville 1        0.640000\n",
       "             0        0.360000\n",
       "Kansas City  1        0.620690\n",
       "             0        0.379310\n",
       "Las Vegas    1        0.718391\n",
       "             0        0.281609\n",
       "Phoenix      1        0.736842\n",
       "             0        0.263158\n",
       "Raleigh      1        0.725714\n",
       "             0        0.274286\n",
       "San Antonio  1        0.786164\n",
       "             0        0.213836\n",
       "Tampa        1        0.658537\n",
       "             0        0.341463"
      ]
     },
     "execution_count": 40,
     "metadata": {},
     "output_type": "execute_result"
    }
   ],
   "source": [
    "pd.DataFrame(out_growing)"
   ]
  },
  {
   "cell_type": "code",
   "execution_count": 41,
   "id": "ceea039f",
   "metadata": {},
   "outputs": [
    {
     "data": {
      "text/html": [
       "<div>\n",
       "<style scoped>\n",
       "    .dataframe tbody tr th:only-of-type {\n",
       "        vertical-align: middle;\n",
       "    }\n",
       "\n",
       "    .dataframe tbody tr th {\n",
       "        vertical-align: top;\n",
       "    }\n",
       "\n",
       "    .dataframe thead th {\n",
       "        text-align: right;\n",
       "    }\n",
       "</style>\n",
       "<table border=\"1\" class=\"dataframe\">\n",
       "  <thead>\n",
       "    <tr style=\"text-align: right;\">\n",
       "      <th></th>\n",
       "      <th></th>\n",
       "      <th>Correct</th>\n",
       "    </tr>\n",
       "    <tr>\n",
       "      <th>City</th>\n",
       "      <th>Correct</th>\n",
       "      <th></th>\n",
       "    </tr>\n",
       "  </thead>\n",
       "  <tbody>\n",
       "    <tr>\n",
       "      <th rowspan=\"2\" valign=\"top\">Boston</th>\n",
       "      <th>1</th>\n",
       "      <td>0.688623</td>\n",
       "    </tr>\n",
       "    <tr>\n",
       "      <th>0</th>\n",
       "      <td>0.311377</td>\n",
       "    </tr>\n",
       "    <tr>\n",
       "      <th rowspan=\"2\" valign=\"top\">Chicago</th>\n",
       "      <th>1</th>\n",
       "      <td>0.695122</td>\n",
       "    </tr>\n",
       "    <tr>\n",
       "      <th>0</th>\n",
       "      <td>0.304878</td>\n",
       "    </tr>\n",
       "    <tr>\n",
       "      <th rowspan=\"2\" valign=\"top\">Los Angeles</th>\n",
       "      <th>1</th>\n",
       "      <td>0.726115</td>\n",
       "    </tr>\n",
       "    <tr>\n",
       "      <th>0</th>\n",
       "      <td>0.273885</td>\n",
       "    </tr>\n",
       "    <tr>\n",
       "      <th rowspan=\"2\" valign=\"top\">New Orleans</th>\n",
       "      <th>1</th>\n",
       "      <td>0.688742</td>\n",
       "    </tr>\n",
       "    <tr>\n",
       "      <th>0</th>\n",
       "      <td>0.311258</td>\n",
       "    </tr>\n",
       "    <tr>\n",
       "      <th rowspan=\"2\" valign=\"top\">New York</th>\n",
       "      <th>1</th>\n",
       "      <td>0.717391</td>\n",
       "    </tr>\n",
       "    <tr>\n",
       "      <th>0</th>\n",
       "      <td>0.282609</td>\n",
       "    </tr>\n",
       "    <tr>\n",
       "      <th rowspan=\"2\" valign=\"top\">Philadelphia</th>\n",
       "      <th>1</th>\n",
       "      <td>0.855491</td>\n",
       "    </tr>\n",
       "    <tr>\n",
       "      <th>0</th>\n",
       "      <td>0.144509</td>\n",
       "    </tr>\n",
       "    <tr>\n",
       "      <th rowspan=\"2\" valign=\"top\">Pittsburgh</th>\n",
       "      <th>1</th>\n",
       "      <td>0.690647</td>\n",
       "    </tr>\n",
       "    <tr>\n",
       "      <th>0</th>\n",
       "      <td>0.309353</td>\n",
       "    </tr>\n",
       "    <tr>\n",
       "      <th rowspan=\"2\" valign=\"top\">San Francisco</th>\n",
       "      <th>1</th>\n",
       "      <td>0.792453</td>\n",
       "    </tr>\n",
       "    <tr>\n",
       "      <th>0</th>\n",
       "      <td>0.207547</td>\n",
       "    </tr>\n",
       "    <tr>\n",
       "      <th rowspan=\"2\" valign=\"top\">Washington DC</th>\n",
       "      <th>1</th>\n",
       "      <td>0.702247</td>\n",
       "    </tr>\n",
       "    <tr>\n",
       "      <th>0</th>\n",
       "      <td>0.297753</td>\n",
       "    </tr>\n",
       "  </tbody>\n",
       "</table>\n",
       "</div>"
      ],
      "text/plain": [
       "                        Correct\n",
       "City          Correct          \n",
       "Boston        1        0.688623\n",
       "              0        0.311377\n",
       "Chicago       1        0.695122\n",
       "              0        0.304878\n",
       "Los Angeles   1        0.726115\n",
       "              0        0.273885\n",
       "New Orleans   1        0.688742\n",
       "              0        0.311258\n",
       "New York      1        0.717391\n",
       "              0        0.282609\n",
       "Philadelphia  1        0.855491\n",
       "              0        0.144509\n",
       "Pittsburgh    1        0.690647\n",
       "              0        0.309353\n",
       "San Francisco 1        0.792453\n",
       "              0        0.207547\n",
       "Washington DC 1        0.702247\n",
       "              0        0.297753"
      ]
     },
     "execution_count": 41,
     "metadata": {},
     "output_type": "execute_result"
    }
   ],
   "source": [
    "pd.DataFrame(out_shrinking)"
   ]
  },
  {
   "cell_type": "code",
   "execution_count": 42,
   "id": "b8b15c1d",
   "metadata": {},
   "outputs": [],
   "source": [
    "correct_predictions_df = final_results_df.loc[(final_results_df.loc[:, 'Correct'] == 1), [\"Text\", \"Labels\", \"City\"]]\n",
    "incorrect_predictions = final_results_df.loc[(final_results_df.loc[:, 'Correct'] == 0), [\"Text\", \"Labels\", \"City\"]]"
   ]
  },
  {
   "cell_type": "code",
   "execution_count": 43,
   "id": "30580db4",
   "metadata": {},
   "outputs": [],
   "source": [
    "outside_correct_predictions = correct_predictions_df.loc[(correct_predictions_df.loc[:, \"Labels\"] == 0), ]\n",
    "inside_correct_predictions = correct_predictions_df.loc[(correct_predictions_df.loc[:, \"Labels\"] == 1), ]"
   ]
  },
  {
   "cell_type": "code",
   "execution_count": 51,
   "id": "596c53ea",
   "metadata": {},
   "outputs": [],
   "source": [
    "incorrect_predictions = final_results_df.loc[(final_results_df.loc[:, 'Correct'] == 0), [\"Text\", \"Labels\", \"City\", \"Predictions\"]]"
   ]
  },
  {
   "cell_type": "code",
   "execution_count": 49,
   "id": "6932a553",
   "metadata": {},
   "outputs": [
    {
     "data": {
      "text/plain": [
       "'hello eastern newt photo taken july sterling forest state park warwick ny greenwood lake new york gwl new yorkstate orange county ny warwick warwickny newt newts newtsofinstagram redeft easternnewt amphibian amphibians amphibiansofinstagram wildlife'"
      ]
     },
     "execution_count": 49,
     "metadata": {},
     "output_type": "execute_result"
    }
   ],
   "source": [
    "outside_correct_predictions.loc[2711, \"Text\"]"
   ]
  },
  {
   "cell_type": "code",
   "execution_count": 55,
   "id": "bdc14da0",
   "metadata": {},
   "outputs": [],
   "source": [
    "outside_incorrect_predictions = incorrect_predictions.loc[(incorrect_predictions.loc[:, \"Labels\"] == 0), ]\n",
    "inside_incorrect_predictions = incorrect_predictions.loc[(incorrect_predictions.loc[:, \"Labels\"] == 1), ]"
   ]
  },
  {
   "cell_type": "code",
   "execution_count": 103,
   "id": "5b4a3cf3",
   "metadata": {},
   "outputs": [
    {
     "data": {
      "text/html": [
       "<div>\n",
       "<style scoped>\n",
       "    .dataframe tbody tr th:only-of-type {\n",
       "        vertical-align: middle;\n",
       "    }\n",
       "\n",
       "    .dataframe tbody tr th {\n",
       "        vertical-align: top;\n",
       "    }\n",
       "\n",
       "    .dataframe thead th {\n",
       "        text-align: right;\n",
       "    }\n",
       "</style>\n",
       "<table border=\"1\" class=\"dataframe\">\n",
       "  <thead>\n",
       "    <tr style=\"text-align: right;\">\n",
       "      <th></th>\n",
       "      <th>Text</th>\n",
       "      <th>Labels</th>\n",
       "      <th>City</th>\n",
       "    </tr>\n",
       "  </thead>\n",
       "  <tbody>\n",
       "    <tr>\n",
       "      <th>0</th>\n",
       "      <td>highest in the room new york new yorkcity manh...</td>\n",
       "      <td>1</td>\n",
       "      <td>New York</td>\n",
       "    </tr>\n",
       "    <tr>\n",
       "      <th>1</th>\n",
       "      <td>accident cleared in fort worth on w sb at gold...</td>\n",
       "      <td>1</td>\n",
       "      <td>Fort Worth</td>\n",
       "    </tr>\n",
       "    <tr>\n",
       "      <th>3</th>\n",
       "      <td>there are still days for you to make a donatio...</td>\n",
       "      <td>1</td>\n",
       "      <td>Philadelphia</td>\n",
       "    </tr>\n",
       "    <tr>\n",
       "      <th>4</th>\n",
       "      <td>hunka hunka burning phoenix sunset arizona pho...</td>\n",
       "      <td>1</td>\n",
       "      <td>Phoenix</td>\n",
       "    </tr>\n",
       "    <tr>\n",
       "      <th>5</th>\n",
       "      <td>roadwork only left lane open in fort worth on ...</td>\n",
       "      <td>1</td>\n",
       "      <td>Fort Worth</td>\n",
       "    </tr>\n",
       "    <tr>\n",
       "      <th>7</th>\n",
       "      <td>edward mountain lion says it s never too early...</td>\n",
       "      <td>1</td>\n",
       "      <td>San Antonio</td>\n",
       "    </tr>\n",
       "    <tr>\n",
       "      <th>9</th>\n",
       "      <td>pour pop hiphop type beat selling 10 music ins...</td>\n",
       "      <td>1</td>\n",
       "      <td>San Francisco</td>\n",
       "    </tr>\n",
       "    <tr>\n",
       "      <th>11</th>\n",
       "      <td>good thing i had emmy to help me because i met...</td>\n",
       "      <td>1</td>\n",
       "      <td>Boston</td>\n",
       "    </tr>\n",
       "    <tr>\n",
       "      <th>12</th>\n",
       "      <td>closed due to road construction in fort worth ...</td>\n",
       "      <td>1</td>\n",
       "      <td>Fort Worth</td>\n",
       "    </tr>\n",
       "    <tr>\n",
       "      <th>14</th>\n",
       "      <td>which one do you prefer blue pink or green one...</td>\n",
       "      <td>1</td>\n",
       "      <td>San Francisco</td>\n",
       "    </tr>\n",
       "  </tbody>\n",
       "</table>\n",
       "</div>"
      ],
      "text/plain": [
       "                                                 Text  Labels           City\n",
       "0   highest in the room new york new yorkcity manh...       1       New York\n",
       "1   accident cleared in fort worth on w sb at gold...       1     Fort Worth\n",
       "3   there are still days for you to make a donatio...       1   Philadelphia\n",
       "4   hunka hunka burning phoenix sunset arizona pho...       1        Phoenix\n",
       "5   roadwork only left lane open in fort worth on ...       1     Fort Worth\n",
       "7   edward mountain lion says it s never too early...       1    San Antonio\n",
       "9   pour pop hiphop type beat selling 10 music ins...       1  San Francisco\n",
       "11  good thing i had emmy to help me because i met...       1         Boston\n",
       "12  closed due to road construction in fort worth ...       1     Fort Worth\n",
       "14  which one do you prefer blue pink or green one...       1  San Francisco"
      ]
     },
     "execution_count": 103,
     "metadata": {},
     "output_type": "execute_result"
    }
   ],
   "source": [
    "inside_correct_predictions.head(10)"
   ]
  }
 ],
 "metadata": {
  "kernelspec": {
   "display_name": "Python 3 (ipykernel)",
   "language": "python",
   "name": "python3"
  },
  "language_info": {
   "codemirror_mode": {
    "name": "ipython",
    "version": 3
   },
   "file_extension": ".py",
   "mimetype": "text/x-python",
   "name": "python",
   "nbconvert_exporter": "python",
   "pygments_lexer": "ipython3",
   "version": "3.10.10"
  }
 },
 "nbformat": 4,
 "nbformat_minor": 5
}
